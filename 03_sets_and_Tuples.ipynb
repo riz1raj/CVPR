{
  "nbformat": 4,
  "nbformat_minor": 0,
  "metadata": {
    "colab": {
      "name": "03 sets and Tuples",
      "provenance": [],
      "authorship_tag": "ABX9TyNeuxbOItRX2Asl9WfCjv8M",
      "include_colab_link": true
    },
    "kernelspec": {
      "name": "python3",
      "display_name": "Python 3"
    }
  },
  "cells": [
    {
      "cell_type": "markdown",
      "metadata": {
        "id": "view-in-github",
        "colab_type": "text"
      },
      "source": [
        "<a href=\"https://colab.research.google.com/github/riz1raj/CVPR/blob/master/03_sets_and_Tuples.ipynb\" target=\"_parent\"><img src=\"https://colab.research.google.com/assets/colab-badge.svg\" alt=\"Open In Colab\"/></a>"
      ]
    },
    {
      "cell_type": "code",
      "metadata": {
        "id": "4Pp5EBCWNqAq",
        "colab_type": "code",
        "colab": {
          "base_uri": "https://localhost:8080/",
          "height": 119
        },
        "outputId": "77426a91-6f65-4c5f-ae86-0328a077687f"
      },
      "source": [
        "#sets --> unordered colllection of distnict elements\n",
        "\n",
        "arr = {'cat','dog'}\n",
        "print(arr)\n",
        "print('cat' in arr)\n",
        "print('dog' in arr)\n",
        "print('fish' in arr)\n",
        "arr.add('fish')\n",
        "print('fish' in arr)\n",
        "arr.remove('fish')\n",
        "print(len(arr))"
      ],
      "execution_count": null,
      "outputs": [
        {
          "output_type": "stream",
          "text": [
            "{'cat', 'dog'}\n",
            "True\n",
            "True\n",
            "False\n",
            "True\n",
            "2\n"
          ],
          "name": "stdout"
        }
      ]
    },
    {
      "cell_type": "code",
      "metadata": {
        "id": "fCO2GmMuOpmv",
        "colab_type": "code",
        "colab": {
          "base_uri": "https://localhost:8080/",
          "height": 187
        },
        "outputId": "43cb0d69-e9bb-477b-ff10-c5d8d1d2e588"
      },
      "source": [
        "set1 = {'cat', 'dog','fish','bird','gorilla'}\n",
        "for a in set1:\n",
        "  print(a)\n",
        "for i,a in enumerate(set1): \n",
        "    print(i,a) #by using enumerate we get sl no"
      ],
      "execution_count": null,
      "outputs": [
        {
          "output_type": "stream",
          "text": [
            "fish\n",
            "bird\n",
            "dog\n",
            "gorilla\n",
            "cat\n",
            "0 fish\n",
            "1 bird\n",
            "2 dog\n",
            "3 gorilla\n",
            "4 cat\n"
          ],
          "name": "stdout"
        }
      ]
    },
    {
      "cell_type": "code",
      "metadata": {
        "id": "rHkUKoM6QIHd",
        "colab_type": "code",
        "colab": {
          "base_uri": "https://localhost:8080/",
          "height": 105
        },
        "outputId": "c9676837-97fe-47b1-f953-be9998091905"
      },
      "source": [
        "#tuples --> immutable ordered values\n",
        "\n",
        "#very much similar to a list\n",
        "#tuples can used as a key in dictionary\n",
        "\n",
        "t=(3,4)\n",
        "print(t)\n",
        "print(type(t))\n",
        "\n",
        "d= {(a,a+1): a for a in  range(10)}\n",
        "print(d)\n",
        "print(d[t])"
      ],
      "execution_count": null,
      "outputs": [
        {
          "output_type": "stream",
          "text": [
            "(3, 4)\n",
            "<class 'tuple'>\n",
            "{(0, 1): 0, (1, 2): 1, (2, 3): 2, (3, 4): 3, (4, 5): 4, (5, 6): 5, (6, 7): 6, (7, 8): 7, (8, 9): 8, (9, 10): 9}\n",
            "3\n"
          ],
          "name": "stdout"
        }
      ]
    },
    {
      "cell_type": "code",
      "metadata": {
        "id": "mX8anuSZRm_B",
        "colab_type": "code",
        "colab": {}
      },
      "source": [
        ""
      ],
      "execution_count": null,
      "outputs": []
    }
  ]
}
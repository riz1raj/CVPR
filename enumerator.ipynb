{
  "nbformat": 4,
  "nbformat_minor": 0,
  "metadata": {
    "colab": {
      "name": "Untitled0.ipynb",
      "provenance": [],
      "collapsed_sections": [],
      "authorship_tag": "ABX9TyPiRyoMhT8uyfYxqlhK5yjG",
      "include_colab_link": true
    },
    "kernelspec": {
      "name": "python3",
      "display_name": "Python 3"
    }
  },
  "cells": [
    {
      "cell_type": "markdown",
      "metadata": {
        "id": "view-in-github",
        "colab_type": "text"
      },
      "source": [
        "<a href=\"https://colab.research.google.com/github/riz1raj/CVPR/blob/master/enumerator.ipynb\" target=\"_parent\"><img src=\"https://colab.research.google.com/assets/colab-badge.svg\" alt=\"Open In Colab\"/></a>"
      ]
    },
    {
      "cell_type": "markdown",
      "metadata": {
        "id": "uq6lNE03VUPH",
        "colab_type": "text"
      },
      "source": [
        "**List**\n",
        "*stores a sequence of items\n",
        "*can be used to store different data types\n",
        "*Lists are mutable\n",
        "*[] to ceate list"
      ]
    },
    {
      "cell_type": "code",
      "metadata": {
        "id": "nEdWBaQcUv_e",
        "colab_type": "code",
        "colab": {
          "base_uri": "https://localhost:8080/",
          "height": 68
        },
        "outputId": "70f737f3-46ee-43cb-c074-1ab112254287"
      },
      "source": [
        "language_courses = ['C', 'C++', 'JAVA', 'C Sharp']\n",
        "print(language_courses)\n",
        "print(language_courses[0])\n",
        "print(language_courses[-1])#negative indexing used to access elements from he back of the list\n",
        "\n"
      ],
      "execution_count": 1,
      "outputs": [
        {
          "output_type": "stream",
          "text": [
            "['C', 'C++', 'JAVA', 'C Sharp']\n",
            "C\n",
            "C Sharp\n"
          ],
          "name": "stdout"
        }
      ]
    },
    {
      "cell_type": "markdown",
      "metadata": {
        "id": "66LTJAI0W6p6",
        "colab_type": "text"
      },
      "source": [
        "Built in enumerator function access to the index of each element within the body of the loop"
      ]
    },
    {
      "cell_type": "code",
      "metadata": {
        "id": "0RDS2qaTWLmS",
        "colab_type": "code",
        "colab": {
          "base_uri": "https://localhost:8080/",
          "height": 85
        },
        "outputId": "66c07ecf-5f77-4ca6-8d69-b86ab007d9e3"
      },
      "source": [
        "for i,c in enumerate(language_courses):\n",
        "  print('# %d: %s' % (i,c))"
      ],
      "execution_count": 2,
      "outputs": [
        {
          "output_type": "stream",
          "text": [
            "# 0: C\n",
            "# 1: C++\n",
            "# 2: JAVA\n",
            "# 3: C Sharp\n"
          ],
          "name": "stdout"
        }
      ]
    },
    {
      "cell_type": "code",
      "metadata": {
        "id": "JoelyeslYKXt",
        "colab_type": "code",
        "colab": {
          "base_uri": "https://localhost:8080/",
          "height": 51
        },
        "outputId": "b530064a-a273-4bb9-c9ef-c3e7085b24de"
      },
      "source": [
        "nums = [0, 1, 2, 3, 4]\n",
        "print(nums)\n",
        "squares = []\n",
        "\n",
        "for i in nums:\n",
        "  squares.append(i**2)\n",
        "print(squares)\n",
        "\n",
        "\n"
      ],
      "execution_count": 3,
      "outputs": [
        {
          "output_type": "stream",
          "text": [
            "[0, 1, 2, 3, 4]\n",
            "[0, 1, 4, 9, 16]\n"
          ],
          "name": "stdout"
        }
      ]
    },
    {
      "cell_type": "code",
      "metadata": {
        "id": "skdhjkEkZXFF",
        "colab_type": "code",
        "colab": {
          "base_uri": "https://localhost:8080/",
          "height": 51
        },
        "outputId": "e2f64e86-af7a-4ac3-b787-2d6084b7c80c"
      },
      "source": [
        "nums = [0, 1, 2, 3, 4]\n",
        "squares =[i **2 for i in nums] #list comprehension\n",
        "print(squares)\n",
        "even_squares = [i ** 2 for i in nums if i % 2 == 0] #another example of list comprehension\n",
        "print(even_squares)"
      ],
      "execution_count": 4,
      "outputs": [
        {
          "output_type": "stream",
          "text": [
            "[0, 1, 4, 9, 16]\n",
            "[0, 4, 16]\n"
          ],
          "name": "stdout"
        }
      ]
    },
    {
      "cell_type": "code",
      "metadata": {
        "id": "OxUpenPSaoB1",
        "colab_type": "code",
        "colab": {
          "base_uri": "https://localhost:8080/",
          "height": 34
        },
        "outputId": "2fa425f9-d7b2-40fc-e3aa-66b8305838e3"
      },
      "source": [
        "print(language_courses)"
      ],
      "execution_count": 5,
      "outputs": [
        {
          "output_type": "stream",
          "text": [
            "['C', 'C++', 'JAVA', 'C Sharp']\n"
          ],
          "name": "stdout"
        }
      ]
    },
    {
      "cell_type": "markdown",
      "metadata": {
        "id": "MkJ3qerHaul0",
        "colab_type": "text"
      },
      "source": [
        "Adding item to a list\n",
        "\n",
        "1.  append()   -> Add an item\n",
        "2.  insert()   -> Add an item to an specific index\n",
        "3. extend(), +  -> can be used for combining list  "
      ]
    },
    {
      "cell_type": "code",
      "metadata": {
        "id": "1kmRM__obWxu",
        "colab_type": "code",
        "colab": {
          "base_uri": "https://localhost:8080/",
          "height": 34
        },
        "outputId": "299e4f49-e969-4ae0-c727-86addc8e76af"
      },
      "source": [
        "#append() ----> add a new element at the end of the list\n",
        "language_courses.append('Python')\n",
        "print(language_courses)"
      ],
      "execution_count": 6,
      "outputs": [
        {
          "output_type": "stream",
          "text": [
            "['C', 'C++', 'JAVA', 'C Sharp', 'Python']\n"
          ],
          "name": "stdout"
        }
      ]
    },
    {
      "cell_type": "code",
      "metadata": {
        "id": "-2khPGNscD6s",
        "colab_type": "code",
        "colab": {
          "base_uri": "https://localhost:8080/",
          "height": 34
        },
        "outputId": "114e03e7-9a03-4b32-e4ee-853702cbad90"
      },
      "source": [
        "#insert() ------> inserts an element to a given index\n",
        "language_courses.insert(3,'Javascript')\n",
        "print(language_courses)\n",
        "\n"
      ],
      "execution_count": 7,
      "outputs": [
        {
          "output_type": "stream",
          "text": [
            "['C', 'C++', 'JAVA', 'Javascript', 'C Sharp', 'Python']\n"
          ],
          "name": "stdout"
        }
      ]
    },
    {
      "cell_type": "code",
      "metadata": {
        "id": "ysc96HhScght",
        "colab_type": "code",
        "colab": {
          "base_uri": "https://localhost:8080/",
          "height": 34
        },
        "outputId": "c6d08c09-63b2-4d92-af7f-362d63d25927"
      },
      "source": [
        "language_courses.insert(5,'PHP')\n",
        "print(language_courses)"
      ],
      "execution_count": 8,
      "outputs": [
        {
          "output_type": "stream",
          "text": [
            "['C', 'C++', 'JAVA', 'Javascript', 'C Sharp', 'PHP', 'Python']\n"
          ],
          "name": "stdout"
        }
      ]
    },
    {
      "cell_type": "code",
      "metadata": {
        "id": "U3X_UsOTdLyv",
        "colab_type": "code",
        "colab": {
          "base_uri": "https://localhost:8080/",
          "height": 34
        },
        "outputId": "cedcc4d8-f102-46f3-886b-a5e1f69e8521"
      },
      "source": [
        "# + opeerator the purpose of list concatenaton\n",
        "algo_courses= ['Data Structure', 'Algorithm', 'AI']\n",
        "all_courses= language_courses + algo_courses\n",
        "print(all_courses)"
      ],
      "execution_count": 9,
      "outputs": [
        {
          "output_type": "stream",
          "text": [
            "['C', 'C++', 'JAVA', 'Javascript', 'C Sharp', 'PHP', 'Python', 'Data Structure', 'Algorithm', 'AI']\n"
          ],
          "name": "stdout"
        }
      ]
    },
    {
      "cell_type": "code",
      "metadata": {
        "id": "9Es_Hp5bdo66",
        "colab_type": "code",
        "colab": {
          "base_uri": "https://localhost:8080/",
          "height": 34
        },
        "outputId": "99887122-40b9-4025-a433-855926cafc17"
      },
      "source": [
        "all_courses.extend(['abc'])\n",
        "print(all_courses)"
      ],
      "execution_count": 10,
      "outputs": [
        {
          "output_type": "stream",
          "text": [
            "['C', 'C++', 'JAVA', 'Javascript', 'C Sharp', 'PHP', 'Python', 'Data Structure', 'Algorithm', 'AI', 'abc']\n"
          ],
          "name": "stdout"
        }
      ]
    },
    {
      "cell_type": "code",
      "metadata": {
        "id": "Z2_i55oId0a_",
        "colab_type": "code",
        "colab": {
          "base_uri": "https://localhost:8080/",
          "height": 34
        },
        "outputId": "ce7624ac-cbcc-4642-f296-5931b33bc910"
      },
      "source": [
        "all_courses.extend('abcxyz')\n",
        "print(all_courses)"
      ],
      "execution_count": 11,
      "outputs": [
        {
          "output_type": "stream",
          "text": [
            "['C', 'C++', 'JAVA', 'Javascript', 'C Sharp', 'PHP', 'Python', 'Data Structure', 'Algorithm', 'AI', 'abc', 'a', 'b', 'c', 'x', 'y', 'z']\n"
          ],
          "name": "stdout"
        }
      ]
    }
  ]
}
{
  "nbformat": 4,
  "nbformat_minor": 0,
  "metadata": {
    "colab": {
      "name": "02_List_Dict.ipynb",
      "provenance": [],
      "collapsed_sections": [],
      "include_colab_link": true
    },
    "kernelspec": {
      "name": "python3",
      "display_name": "Python 3"
    }
  },
  "cells": [
    {
      "cell_type": "markdown",
      "metadata": {
        "id": "view-in-github",
        "colab_type": "text"
      },
      "source": [
        "<a href=\"https://colab.research.google.com/github/riz1raj/CVPR/blob/master/02_List_Dict.ipynb\" target=\"_parent\"><img src=\"https://colab.research.google.com/assets/colab-badge.svg\" alt=\"Open In Colab\"/></a>"
      ]
    },
    {
      "cell_type": "markdown",
      "metadata": {
        "id": "lKi-BJJkUxbK",
        "colab_type": "text"
      },
      "source": [
        "**List**\n",
        "\n",
        "*   Stores a sequence of items\n",
        "*   Can be used to store different data types\n",
        "*   Lists are mutable\n",
        "*   [  ] to create lists\n",
        "\n"
      ]
    },
    {
      "cell_type": "code",
      "metadata": {
        "id": "p1smMG-6U0w1",
        "colab_type": "code",
        "colab": {
          "base_uri": "https://localhost:8080/",
          "height": 68
        },
        "outputId": "56c5bf8a-3c4d-4682-e4ee-288614629933"
      },
      "source": [
        "language_courses = ['C', 'C++', 'JAVA', 'C Charp']\n",
        "print(language_courses)\n",
        "print(language_courses[0])\n",
        "print(language_courses[-1]) # negative indexing - used to access elemnts from the back of the list"
      ],
      "execution_count": 1,
      "outputs": [
        {
          "output_type": "stream",
          "text": [
            "['C', 'C++', 'JAVA', 'C Charp']\n",
            "C\n",
            "C Charp\n"
          ],
          "name": "stdout"
        }
      ]
    },
    {
      "cell_type": "markdown",
      "metadata": {
        "id": "T2l3TXurW2s9",
        "colab_type": "text"
      },
      "source": [
        "Builtin enumerator function gives access to the index of each element within the body of the loop\n"
      ]
    },
    {
      "cell_type": "code",
      "metadata": {
        "id": "X7YV3Pp1XFB3",
        "colab_type": "code",
        "colab": {
          "base_uri": "https://localhost:8080/",
          "height": 85
        },
        "outputId": "755ebea8-a831-4809-be27-f4ee43bd5333"
      },
      "source": [
        "for i,c in enumerate(language_courses):\n",
        "    print('# %d: %s' % (i,c) )\n"
      ],
      "execution_count": 2,
      "outputs": [
        {
          "output_type": "stream",
          "text": [
            "# 0: C\n",
            "# 1: C++\n",
            "# 2: JAVA\n",
            "# 3: C Charp\n"
          ],
          "name": "stdout"
        }
      ]
    },
    {
      "cell_type": "code",
      "metadata": {
        "id": "tFN_eAJ_XZsD",
        "colab_type": "code",
        "colab": {
          "base_uri": "https://localhost:8080/",
          "height": 51
        },
        "outputId": "70ea5068-4d4d-462c-81a5-ddbf7ee3890b"
      },
      "source": [
        "nums = [0, 1, 2, 3, 4]\n",
        "print(nums)\n",
        "squares = []\n",
        "for i in nums:\n",
        "    squares.append(i ** 2)\n",
        "print(squares)"
      ],
      "execution_count": 3,
      "outputs": [
        {
          "output_type": "stream",
          "text": [
            "[0, 1, 2, 3, 4]\n",
            "[0, 1, 4, 9, 16]\n"
          ],
          "name": "stdout"
        }
      ]
    },
    {
      "cell_type": "code",
      "metadata": {
        "id": "kG4pBgyaYyEi",
        "colab_type": "code",
        "colab": {
          "base_uri": "https://localhost:8080/",
          "height": 51
        },
        "outputId": "37bce18c-1d95-43ae-d03a-45177a5c0ce4"
      },
      "source": [
        "nums = [0, 1, 2, 3, 4]\n",
        "squares = [i ** 2 for i in nums] # list comprehension\n",
        "print(squares)\n",
        "even_squares = [i ** 2 for i in nums if i % 2 == 0] # another example of list comprehension\n",
        "print(even_squares)"
      ],
      "execution_count": 4,
      "outputs": [
        {
          "output_type": "stream",
          "text": [
            "[0, 1, 4, 9, 16]\n",
            "[0, 4, 16]\n"
          ],
          "name": "stdout"
        }
      ]
    },
    {
      "cell_type": "code",
      "metadata": {
        "id": "bh0A1wnzZmzc",
        "colab_type": "code",
        "colab": {
          "base_uri": "https://localhost:8080/",
          "height": 34
        },
        "outputId": "8b8d6ddf-0568-443c-d700-61b490946de8"
      },
      "source": [
        "print(language_courses)"
      ],
      "execution_count": 5,
      "outputs": [
        {
          "output_type": "stream",
          "text": [
            "['C', 'C++', 'JAVA', 'C Charp']\n"
          ],
          "name": "stdout"
        }
      ]
    },
    {
      "cell_type": "markdown",
      "metadata": {
        "id": "0LMZVxLkaoS_",
        "colab_type": "text"
      },
      "source": [
        "Adding items to a list\n",
        "\n",
        "1.   append()       ->  Add an item\n",
        "2.   insert()       ->  Add an item to a specific index\n",
        "3.   extend() , +   ->  COmbines list"
      ]
    },
    {
      "cell_type": "code",
      "metadata": {
        "id": "o1sxDPTGayAz",
        "colab_type": "code",
        "colab": {
          "base_uri": "https://localhost:8080/",
          "height": 34
        },
        "outputId": "63be1c7a-5b7b-4cf7-c915-00c5641e7652"
      },
      "source": [
        "# append() ---> add a new element at the end of the list\n",
        "language_courses.append('Python')\n",
        "print(language_courses)"
      ],
      "execution_count": 6,
      "outputs": [
        {
          "output_type": "stream",
          "text": [
            "['C', 'C++', 'JAVA', 'C Charp', 'Python']\n"
          ],
          "name": "stdout"
        }
      ]
    },
    {
      "cell_type": "code",
      "metadata": {
        "id": "ZxQpMBwJbtyy",
        "colab_type": "code",
        "colab": {
          "base_uri": "https://localhost:8080/",
          "height": 34
        },
        "outputId": "4cdfb83f-ce93-4119-90c2-0ddf707bd3da"
      },
      "source": [
        "# insert() ---> inserts an elemnet to a given index\n",
        "language_courses.insert(3,'JS')\n",
        "print(language_courses)"
      ],
      "execution_count": 7,
      "outputs": [
        {
          "output_type": "stream",
          "text": [
            "['C', 'C++', 'JAVA', 'JS', 'C Charp', 'Python']\n"
          ],
          "name": "stdout"
        }
      ]
    },
    {
      "cell_type": "code",
      "metadata": {
        "id": "0ZPb8IDVcawV",
        "colab_type": "code",
        "colab": {
          "base_uri": "https://localhost:8080/",
          "height": 34
        },
        "outputId": "87199be7-7645-4e85-c37a-3136827bab61"
      },
      "source": [
        "language_courses.insert(5, 'PHP')\n",
        "print(language_courses)"
      ],
      "execution_count": 8,
      "outputs": [
        {
          "output_type": "stream",
          "text": [
            "['C', 'C++', 'JAVA', 'JS', 'C Charp', 'PHP', 'Python']\n"
          ],
          "name": "stdout"
        }
      ]
    },
    {
      "cell_type": "code",
      "metadata": {
        "id": "p9deSMRwc6st",
        "colab_type": "code",
        "colab": {
          "base_uri": "https://localhost:8080/",
          "height": 34
        },
        "outputId": "dd8e15cd-c248-4042-ccff-f5e7e444484c"
      },
      "source": [
        "# + operator sers the purpose of list concatination\n",
        "algo_courses = ['Data structure', 'Algorithm', 'AI']\n",
        "all_courses = language_courses + algo_courses\n",
        "print(all_courses)"
      ],
      "execution_count": 9,
      "outputs": [
        {
          "output_type": "stream",
          "text": [
            "['C', 'C++', 'JAVA', 'JS', 'C Charp', 'PHP', 'Python', 'Data structure', 'Algorithm', 'AI']\n"
          ],
          "name": "stdout"
        }
      ]
    },
    {
      "cell_type": "code",
      "metadata": {
        "id": "HhKRnKbvdYfo",
        "colab_type": "code",
        "colab": {
          "base_uri": "https://localhost:8080/",
          "height": 34
        },
        "outputId": "4ca4ded7-841f-4f62-ad0c-ca3832fcd2bb"
      },
      "source": [
        "all_courses.extend(['abc']) # adds another list to the end of a list\n",
        "print(all_courses)"
      ],
      "execution_count": 10,
      "outputs": [
        {
          "output_type": "stream",
          "text": [
            "['C', 'C++', 'JAVA', 'JS', 'C Charp', 'PHP', 'Python', 'Data structure', 'Algorithm', 'AI', 'abc']\n"
          ],
          "name": "stdout"
        }
      ]
    },
    {
      "cell_type": "code",
      "metadata": {
        "id": "Z_zF0va_dt6d",
        "colab_type": "code",
        "colab": {
          "base_uri": "https://localhost:8080/",
          "height": 34
        },
        "outputId": "4365e6a7-a4d2-43db-e64e-8348cfa5de5a"
      },
      "source": [
        "all_courses.extend('abcxyz') # remindful of strings while using extend method\n",
        "print(all_courses)"
      ],
      "execution_count": 11,
      "outputs": [
        {
          "output_type": "stream",
          "text": [
            "['C', 'C++', 'JAVA', 'JS', 'C Charp', 'PHP', 'Python', 'Data structure', 'Algorithm', 'AI', 'abc', 'a', 'b', 'c', 'x', 'y', 'z']\n"
          ],
          "name": "stdout"
        }
      ]
    },
    {
      "cell_type": "markdown",
      "metadata": {
        "id": "eLmJEr3Bdt0x",
        "colab_type": "text"
      },
      "source": [
        ""
      ]
    },
    {
      "cell_type": "markdown",
      "metadata": {
        "id": "FIgl5X6SdvZq",
        "colab_type": "text"
      },
      "source": [
        "**Delete items from a list**\n",
        "\n",
        "\n",
        "1.   pop()     # remove an item by index and get its value\n",
        "2.   remove()  # remove an item by value\n",
        "3.   del()     # remove items by idex or by slice\n",
        "4.   clear()   # remove all items\n",
        "5.   list comprehensions can be used to remove multiple items that meet some conditions.\n",
        "\n"
      ]
    },
    {
      "cell_type": "code",
      "metadata": {
        "id": "jyOwpAdBes0P",
        "colab_type": "code",
        "colab": {
          "base_uri": "https://localhost:8080/",
          "height": 51
        },
        "outputId": "e64b616a-dace-4982-8234-33389331a42f"
      },
      "source": [
        "# pop() ---> remove and return the last element of the list\n",
        "poped_item = all_courses.pop()\n",
        "print(poped_item)\n",
        "print(all_courses)"
      ],
      "execution_count": 12,
      "outputs": [
        {
          "output_type": "stream",
          "text": [
            "z\n",
            "['C', 'C++', 'JAVA', 'JS', 'C Charp', 'PHP', 'Python', 'Data structure', 'Algorithm', 'AI', 'abc', 'a', 'b', 'c', 'x', 'y']\n"
          ],
          "name": "stdout"
        }
      ]
    },
    {
      "cell_type": "code",
      "metadata": {
        "id": "Z2vwvGMCfPUW",
        "colab_type": "code",
        "colab": {
          "base_uri": "https://localhost:8080/",
          "height": 85
        },
        "outputId": "c11238bf-a3c8-426d-ed75-7ab6ed4c9d6e"
      },
      "source": [
        "poped_item = all_courses.pop()\n",
        "print(poped_item)\n",
        "print(all_courses)\n",
        "\n",
        "poped_item = all_courses.pop()\n",
        "print(poped_item)\n",
        "print(all_courses)"
      ],
      "execution_count": 13,
      "outputs": [
        {
          "output_type": "stream",
          "text": [
            "y\n",
            "['C', 'C++', 'JAVA', 'JS', 'C Charp', 'PHP', 'Python', 'Data structure', 'Algorithm', 'AI', 'abc', 'a', 'b', 'c', 'x']\n",
            "x\n",
            "['C', 'C++', 'JAVA', 'JS', 'C Charp', 'PHP', 'Python', 'Data structure', 'Algorithm', 'AI', 'abc', 'a', 'b', 'c']\n"
          ],
          "name": "stdout"
        }
      ]
    },
    {
      "cell_type": "code",
      "metadata": {
        "id": "HLG_s9Zafn57",
        "colab_type": "code",
        "colab": {
          "base_uri": "https://localhost:8080/",
          "height": 51
        },
        "outputId": "9a7f2516-1efe-4844-8d4a-58077cef6db9"
      },
      "source": [
        "print(all_courses.pop(11))\n",
        "print(all_courses)"
      ],
      "execution_count": 14,
      "outputs": [
        {
          "output_type": "stream",
          "text": [
            "a\n",
            "['C', 'C++', 'JAVA', 'JS', 'C Charp', 'PHP', 'Python', 'Data structure', 'Algorithm', 'AI', 'abc', 'b', 'c']\n"
          ],
          "name": "stdout"
        }
      ]
    },
    {
      "cell_type": "code",
      "metadata": {
        "id": "8AiWFBWSgAHB",
        "colab_type": "code",
        "colab": {
          "base_uri": "https://localhost:8080/",
          "height": 51
        },
        "outputId": "e7c55a6f-382b-4829-997f-560877688722"
      },
      "source": [
        "print(all_courses.pop(-1))\n",
        "print(all_courses)"
      ],
      "execution_count": 15,
      "outputs": [
        {
          "output_type": "stream",
          "text": [
            "c\n",
            "['C', 'C++', 'JAVA', 'JS', 'C Charp', 'PHP', 'Python', 'Data structure', 'Algorithm', 'AI', 'abc', 'b']\n"
          ],
          "name": "stdout"
        }
      ]
    },
    {
      "cell_type": "code",
      "metadata": {
        "id": "a6m-jnlugUIz",
        "colab_type": "code",
        "colab": {
          "base_uri": "https://localhost:8080/",
          "height": 34
        },
        "outputId": "8432e6a2-f987-42df-ca1e-6f57a3a849d9"
      },
      "source": [
        "\n",
        "# The slice operator (:) allows to index multiple adjacent elements\n",
        "# listName[x:y] ---> get a slice from index x (inclusive) to y (exclusive)\n",
        "\n",
        "print(all_courses[0:2])\n"
      ],
      "execution_count": 16,
      "outputs": [
        {
          "output_type": "stream",
          "text": [
            "['C', 'C++']\n"
          ],
          "name": "stdout"
        }
      ]
    },
    {
      "cell_type": "code",
      "metadata": {
        "id": "8bJGQgRxiT_S",
        "colab_type": "code",
        "colab": {
          "base_uri": "https://localhost:8080/",
          "height": 34
        },
        "outputId": "c20f9990-b6b0-460d-afea-30ace5a29be2"
      },
      "source": [
        "print(all_courses[:3])"
      ],
      "execution_count": 17,
      "outputs": [
        {
          "output_type": "stream",
          "text": [
            "['C', 'C++', 'JAVA']\n"
          ],
          "name": "stdout"
        }
      ]
    },
    {
      "cell_type": "code",
      "metadata": {
        "id": "4LfjLUc2inFK",
        "colab_type": "code",
        "colab": {
          "base_uri": "https://localhost:8080/",
          "height": 34
        },
        "outputId": "e7c2496e-4ab2-4c26-a9e6-345677e3655f"
      },
      "source": [
        "print(all_courses[:-1])"
      ],
      "execution_count": 18,
      "outputs": [
        {
          "output_type": "stream",
          "text": [
            "['C', 'C++', 'JAVA', 'JS', 'C Charp', 'PHP', 'Python', 'Data structure', 'Algorithm', 'AI', 'abc']\n"
          ],
          "name": "stdout"
        }
      ]
    },
    {
      "cell_type": "code",
      "metadata": {
        "id": "8cikIoQ8i8Bn",
        "colab_type": "code",
        "colab": {
          "base_uri": "https://localhost:8080/",
          "height": 34
        },
        "outputId": "ac10536f-89fd-4e96-aa58-40b334cb0d66"
      },
      "source": [
        "print(all_courses[2:-2])"
      ],
      "execution_count": 19,
      "outputs": [
        {
          "output_type": "stream",
          "text": [
            "['JAVA', 'JS', 'C Charp', 'PHP', 'Python', 'Data structure', 'Algorithm', 'AI']\n"
          ],
          "name": "stdout"
        }
      ]
    },
    {
      "cell_type": "code",
      "metadata": {
        "id": "rj-ELyM2jH_N",
        "colab_type": "code",
        "colab": {
          "base_uri": "https://localhost:8080/",
          "height": 34
        },
        "outputId": "9d58a3bc-2332-470a-c9cb-5ce4cdbf5bab"
      },
      "source": [
        "# List can contain any data structure\n",
        "listOfMixedType = ['abc', 1, 'x', 3.34]\n",
        "print(listOfMixedType)"
      ],
      "execution_count": 20,
      "outputs": [
        {
          "output_type": "stream",
          "text": [
            "['abc', 1, 'x', 3.34]\n"
          ],
          "name": "stdout"
        }
      ]
    },
    {
      "cell_type": "code",
      "metadata": {
        "id": "gi84EDGGjqmg",
        "colab_type": "code",
        "colab": {
          "base_uri": "https://localhost:8080/",
          "height": 34
        },
        "outputId": "478669f2-2294-4755-f36c-b95b43efcdf6"
      },
      "source": [
        "listOfLists = [ ['a','b'], [1,2,3,4],['One',\"Two\",'Three']]\n",
        "print(listOfLists)"
      ],
      "execution_count": 21,
      "outputs": [
        {
          "output_type": "stream",
          "text": [
            "[['a', 'b'], [1, 2, 3, 4], ['One', 'Two', 'Three']]\n"
          ],
          "name": "stdout"
        }
      ]
    },
    {
      "cell_type": "code",
      "metadata": {
        "id": "xdZcOTPYkBEa",
        "colab_type": "code",
        "colab": {
          "base_uri": "https://localhost:8080/",
          "height": 34
        },
        "outputId": "0cbf5296-8c3a-40c1-8ac4-96c29a082930"
      },
      "source": [
        "print(listOfLists[2][1])"
      ],
      "execution_count": 22,
      "outputs": [
        {
          "output_type": "stream",
          "text": [
            "Two\n"
          ],
          "name": "stdout"
        }
      ]
    },
    {
      "cell_type": "code",
      "metadata": {
        "id": "ppTEHTn4kQUa",
        "colab_type": "code",
        "colab": {
          "base_uri": "https://localhost:8080/",
          "height": 51
        },
        "outputId": "89c9605d-8367-43e7-8425-eeca5987e32b"
      },
      "source": [
        "# some useful methods while working with lists\n",
        "print(listOfLists)\n",
        "listOfLists.pop()\n",
        "print(listOfLists)"
      ],
      "execution_count": 23,
      "outputs": [
        {
          "output_type": "stream",
          "text": [
            "[['a', 'b'], [1, 2, 3, 4], ['One', 'Two', 'Three']]\n",
            "[['a', 'b'], [1, 2, 3, 4]]\n"
          ],
          "name": "stdout"
        }
      ]
    },
    {
      "cell_type": "code",
      "metadata": {
        "id": "wGpVt3wukykY",
        "colab_type": "code",
        "colab": {
          "base_uri": "https://localhost:8080/",
          "height": 68
        },
        "outputId": "5f0b2298-1a0c-4cf2-969b-6106443139b9"
      },
      "source": [
        "x = ['a','b','c']\n",
        "print(x)\n",
        "x.reverse()\n",
        "print(x)\n",
        "print(x[:])"
      ],
      "execution_count": 24,
      "outputs": [
        {
          "output_type": "stream",
          "text": [
            "['a', 'b', 'c']\n",
            "['c', 'b', 'a']\n",
            "['c', 'b', 'a']\n"
          ],
          "name": "stdout"
        }
      ]
    },
    {
      "cell_type": "code",
      "metadata": {
        "id": "uXFevSt8lv11",
        "colab_type": "code",
        "colab": {
          "base_uri": "https://localhost:8080/",
          "height": 34
        },
        "outputId": "f001013f-ecba-495b-ed51-739b75996385"
      },
      "source": [
        "print(len(x)) # Length of the list"
      ],
      "execution_count": 25,
      "outputs": [
        {
          "output_type": "stream",
          "text": [
            "3\n"
          ],
          "name": "stdout"
        }
      ]
    },
    {
      "cell_type": "code",
      "metadata": {
        "id": "jlwnjDRomu8-",
        "colab_type": "code",
        "colab": {
          "base_uri": "https://localhost:8080/",
          "height": 51
        },
        "outputId": "a87d4946-fa51-4740-98d0-3c6155ca8c7c"
      },
      "source": [
        "x = ['a','b','c']\n",
        "print(x)\n",
        "x.reverse()\n",
        "print(x[1:])\n"
      ],
      "execution_count": 26,
      "outputs": [
        {
          "output_type": "stream",
          "text": [
            "['a', 'b', 'c']\n",
            "['b', 'a']\n"
          ],
          "name": "stdout"
        }
      ]
    },
    {
      "cell_type": "markdown",
      "metadata": {
        "id": "WQ4zCK29nVJR",
        "colab_type": "text"
      },
      "source": [
        "# remove() ---> remove an item by value. \n",
        "# Incase of multiple instances with same value, it will remove the 1st occarence only\n",
        "\n",
        "# Your task is to be familiar with remove(), del(), clear()"
      ]
    },
    {
      "cell_type": "markdown",
      "metadata": {
        "id": "ibv65j4Ins9Y",
        "colab_type": "text"
      },
      "source": [
        "Dictionary\n",
        "\n",
        "1.   Stores a map from one type of object (the KEY) to another (the VALUE)\n",
        "2.   Similar to Map in JAVA or an object in javascript\n",
        "3.   The KEY must be immutable type (string, number, or tuple)\n",
        "4.   The VALUE can be of any data type\n",
        "5.   The ordering of the keys depend on the hashing algorithm, thus it is usually arbitary\n",
        "6.   your code should not rely on the ordering of the keys in a Dictionary\n",
        "7.   Use curly brakets {} to create dictionary\n",
        "\n"
      ]
    },
    {
      "cell_type": "code",
      "metadata": {
        "id": "uJcXyTcYm7Tx",
        "colab_type": "code",
        "colab": {
          "base_uri": "https://localhost:8080/",
          "height": 34
        },
        "outputId": "e47d64de-7b23-469f-e24a-d7fb5240893c"
      },
      "source": [
        "empDict = { 'Mashiour': 100, 'Manirul': 83.6, 'Dip': 93.4}\n",
        "print(empDict)"
      ],
      "execution_count": 27,
      "outputs": [
        {
          "output_type": "stream",
          "text": [
            "{'Mashiour': 100, 'Manirul': 83.6, 'Dip': 93.4}\n"
          ],
          "name": "stdout"
        }
      ]
    },
    {
      "cell_type": "code",
      "metadata": {
        "id": "8ZP5qbtNqfOG",
        "colab_type": "code",
        "colab": {
          "base_uri": "https://localhost:8080/",
          "height": 34
        },
        "outputId": "20545988-f1f2-4905-8305-d77d3cbdea48"
      },
      "source": [
        "print(empDict['Dip'])"
      ],
      "execution_count": 28,
      "outputs": [
        {
          "output_type": "stream",
          "text": [
            "93.4\n"
          ],
          "name": "stdout"
        }
      ]
    },
    {
      "cell_type": "code",
      "metadata": {
        "id": "a8lxD__zquLU",
        "colab_type": "code",
        "colab": {
          "base_uri": "https://localhost:8080/",
          "height": 34
        },
        "outputId": "222404cb-cd7f-482c-8e70-1aaabafceab7"
      },
      "source": [
        "empDict['Dip'] = 300\n",
        "print(empDict)"
      ],
      "execution_count": 29,
      "outputs": [
        {
          "output_type": "stream",
          "text": [
            "{'Mashiour': 100, 'Manirul': 83.6, 'Dip': 300}\n"
          ],
          "name": "stdout"
        }
      ]
    },
    {
      "cell_type": "code",
      "metadata": {
        "id": "fQawSC23ryi_",
        "colab_type": "code",
        "colab": {
          "base_uri": "https://localhost:8080/",
          "height": 68
        },
        "outputId": "6b3e8081-3481-4907-b93e-264f520758c9"
      },
      "source": [
        "for i in empDict:\n",
        "    score = empDict[i]\n",
        "    print('%s has a review score of %f' % (i, score))"
      ],
      "execution_count": 30,
      "outputs": [
        {
          "output_type": "stream",
          "text": [
            "Mashiour has a review score of 100.000000\n",
            "Manirul has a review score of 83.600000\n",
            "Dip has a review score of 300.000000\n"
          ],
          "name": "stdout"
        }
      ]
    },
    {
      "cell_type": "code",
      "metadata": {
        "id": "bB9Sna86sO9b",
        "colab_type": "code",
        "colab": {
          "base_uri": "https://localhost:8080/",
          "height": 68
        },
        "outputId": "a112e067-ffd7-4e27-fbca-b00b7c736bab"
      },
      "source": [
        "for emp,score in empDict.items():\n",
        "    print('%s has a review score of %f' % (emp, score))"
      ],
      "execution_count": 31,
      "outputs": [
        {
          "output_type": "stream",
          "text": [
            "Mashiour has a review score of 100.000000\n",
            "Manirul has a review score of 83.600000\n",
            "Dip has a review score of 300.000000\n"
          ],
          "name": "stdout"
        }
      ]
    },
    {
      "cell_type": "code",
      "metadata": {
        "id": "-pYI0SjdtHsW",
        "colab_type": "code",
        "colab": {
          "base_uri": "https://localhost:8080/",
          "height": 34
        },
        "outputId": "b22d89d5-f003-4df1-db37-242925e10a3f"
      },
      "source": [
        "# use map() and filter()\n",
        "\n",
        "def addition(n):\n",
        "    return n+n\n",
        "\n",
        "numbers = [1,2,3,4]\n",
        "res = map(addition, numbers)\n",
        "print(list(res))"
      ],
      "execution_count": 32,
      "outputs": [
        {
          "output_type": "stream",
          "text": [
            "[2, 4, 6, 8]\n"
          ],
          "name": "stdout"
        }
      ]
    },
    {
      "cell_type": "code",
      "metadata": {
        "id": "OPxeb92dty5v",
        "colab_type": "code",
        "colab": {
          "base_uri": "https://localhost:8080/",
          "height": 34
        },
        "outputId": "a9456789-ab6d-4d06-fdc6-ff53a4cecc61"
      },
      "source": [
        "nums = [1,2,3,4,5,6]\n",
        "list(map(lambda x: x*x, nums ))"
      ],
      "execution_count": 33,
      "outputs": [
        {
          "output_type": "execute_result",
          "data": {
            "text/plain": [
              "[1, 4, 9, 16, 25, 36]"
            ]
          },
          "metadata": {
            "tags": []
          },
          "execution_count": 33
        }
      ]
    },
    {
      "cell_type": "code",
      "metadata": {
        "id": "xjv0Xsy6ueU0",
        "colab_type": "code",
        "colab": {
          "base_uri": "https://localhost:8080/",
          "height": 34
        },
        "outputId": "7b5b4230-33eb-4ce7-decc-8642775908f1"
      },
      "source": [
        "list(filter(lambda a: a > 3, nums))"
      ],
      "execution_count": 34,
      "outputs": [
        {
          "output_type": "execute_result",
          "data": {
            "text/plain": [
              "[4, 5, 6]"
            ]
          },
          "metadata": {
            "tags": []
          },
          "execution_count": 34
        }
      ]
    },
    {
      "cell_type": "code",
      "metadata": {
        "id": "XSc1XoPKvkNI",
        "colab_type": "code",
        "colab": {}
      },
      "source": [
        "# sets\n",
        "# tuple\n",
        "# numpy\n",
        "# matplotlib\n",
        "# image operations"
      ],
      "execution_count": 35,
      "outputs": []
    }
  ]
}
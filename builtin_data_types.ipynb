{
  "nbformat": 4,
  "nbformat_minor": 0,
  "metadata": {
    "colab": {
      "name": "builtin_data_types.ipynb",
      "provenance": [],
      "collapsed_sections": [],
      "authorship_tag": "ABX9TyOEkcE0PZ0M+jBCD3fJEj5L",
      "include_colab_link": true
    },
    "kernelspec": {
      "name": "python3",
      "display_name": "Python 3"
    }
  },
  "cells": [
    {
      "cell_type": "markdown",
      "metadata": {
        "id": "view-in-github",
        "colab_type": "text"
      },
      "source": [
        "<a href=\"https://colab.research.google.com/github/riz1raj/CVPR/blob/master/builtin_data_types.ipynb\" target=\"_parent\"><img src=\"https://colab.research.google.com/assets/colab-badge.svg\" alt=\"Open In Colab\"/></a>"
      ]
    },
    {
      "cell_type": "code",
      "metadata": {
        "id": "yeeejAHsJ95p",
        "colab_type": "code",
        "colab": {
          "base_uri": "https://localhost:8080/",
          "height": 221
        },
        "outputId": "ac7e5171-ad4f-4347-8f15-b6a66380b5a9"
      },
      "source": [
        "a=5\n",
        "print(a)\n",
        "print(type(a))  #which type\n",
        "print(a+1) #additional operation\n",
        "print(a-1) #Subtract operation\n",
        "print(a*2) #Multiplication operation\n",
        "print(a/2) #Division operation\n",
        "print(a//2) #int part of operation\n",
        "print(a**2) #exponentiation operation\n",
        "a +=1\n",
        "print(a)\n",
        "a *=2\n",
        "print(a)\n",
        "b=2.5\n",
        "print(type(b))\n",
        "print(b, b+1, b*2, b**2)"
      ],
      "execution_count": 21,
      "outputs": [
        {
          "output_type": "stream",
          "text": [
            "5\n",
            "<class 'int'>\n",
            "6\n",
            "4\n",
            "10\n",
            "2.5\n",
            "2\n",
            "25\n",
            "6\n",
            "12\n",
            "<class 'float'>\n",
            "2.5 3.5 5.0 6.25\n"
          ],
          "name": "stdout"
        }
      ]
    },
    {
      "cell_type": "code",
      "metadata": {
        "id": "SjyJ7FKaNeq8",
        "colab_type": "code",
        "colab": {
          "base_uri": "https://localhost:8080/",
          "height": 119
        },
        "outputId": "f6464770-42bd-4b70-c1fb-d889a6b73dc7"
      },
      "source": [
        "t= True\n",
        "f= False\n",
        "print(type(t))\n",
        "print(type(f))\n",
        "print(t and f) #logical AND\n",
        "print(t or f) #logical OR\n",
        "print(not t) #logical NOT\n",
        "print(t != f) #logical XOR\n",
        "\n",
        "\n"
      ],
      "execution_count": 22,
      "outputs": [
        {
          "output_type": "stream",
          "text": [
            "<class 'bool'>\n",
            "<class 'bool'>\n",
            "False\n",
            "True\n",
            "False\n",
            "True\n"
          ],
          "name": "stdout"
        }
      ]
    },
    {
      "cell_type": "code",
      "metadata": {
        "id": "ElZh2iC4O7j4",
        "colab_type": "code",
        "colab": {
          "base_uri": "https://localhost:8080/",
          "height": 119
        },
        "outputId": "37fbc119-0288-4a48-c6cc-31aa7b293669"
      },
      "source": [
        "s = 'hello'\n",
        "print(s.capitalize()) #captialize the first character\n",
        "print(s.upper()) #convert a string to upper case\n",
        "print(s.rjust(50)) #right-justify the string with ** space\n",
        "print(s.center(50)) #center a string\n",
        "print(s.replace('l','ell')) # replaces all the instances of the string with the new sub string\n",
        "print('      hello   '.strip(),'test')  #removing white space from the beginning or from the end"
      ],
      "execution_count": 37,
      "outputs": [
        {
          "output_type": "stream",
          "text": [
            "Hello\n",
            "HELLO\n",
            "                                             hello\n",
            "                      hello                       \n",
            "heellello\n",
            "hello test\n"
          ],
          "name": "stdout"
        }
      ]
    },
    {
      "cell_type": "code",
      "metadata": {
        "id": "hxUuaKk3RIe4",
        "colab_type": "code",
        "colab": {
          "base_uri": "https://localhost:8080/",
          "height": 119
        },
        "outputId": "44f62543-06ab-43c0-e059-12b04d52d54a"
      },
      "source": [
        "for i in range(5):\n",
        "  print(i) #need to give tab \n",
        "arr =[1,2,3]\n",
        "print(arr)"
      ],
      "execution_count": 41,
      "outputs": [
        {
          "output_type": "stream",
          "text": [
            "0\n",
            "1\n",
            "2\n",
            "3\n",
            "4\n",
            "[1, 2, 3]\n"
          ],
          "name": "stdout"
        }
      ]
    }
  ]
}
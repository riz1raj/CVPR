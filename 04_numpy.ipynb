{
  "nbformat": 4,
  "nbformat_minor": 0,
  "metadata": {
    "colab": {
      "name": "04_numpy",
      "provenance": [],
      "collapsed_sections": [],
      "authorship_tag": "ABX9TyPiis6Qha5JI0ibdoLW6BGS",
      "include_colab_link": true
    },
    "kernelspec": {
      "name": "python3",
      "display_name": "Python 3"
    }
  },
  "cells": [
    {
      "cell_type": "markdown",
      "metadata": {
        "id": "view-in-github",
        "colab_type": "text"
      },
      "source": [
        "<a href=\"https://colab.research.google.com/github/riz1raj/CVPR/blob/master/04_numpy.ipynb\" target=\"_parent\"><img src=\"https://colab.research.google.com/assets/colab-badge.svg\" alt=\"Open In Colab\"/></a>"
      ]
    },
    {
      "cell_type": "code",
      "metadata": {
        "id": "Ghf6twtiTCal",
        "colab_type": "code",
        "colab": {
          "base_uri": "https://localhost:8080/",
          "height": 85
        },
        "outputId": "a3036504-897a-4c79-f417-a72cac43474c"
      },
      "source": [
        "import numpy as np\n",
        "a = np.array([1,2,3]) #rank 1 array\n",
        "print(type(a))\n",
        "print(a.shape)\n",
        "print(a[0],a[1],a[2])\n",
        "\n",
        "a[2] = 5\n",
        "a\n"
      ],
      "execution_count": null,
      "outputs": [
        {
          "output_type": "stream",
          "text": [
            "<class 'numpy.ndarray'>\n",
            "(3,)\n",
            "1 2 3\n"
          ],
          "name": "stdout"
        },
        {
          "output_type": "execute_result",
          "data": {
            "text/plain": [
              "array([1, 2, 5])"
            ]
          },
          "metadata": {
            "tags": []
          },
          "execution_count": 1
        }
      ]
    },
    {
      "cell_type": "code",
      "metadata": {
        "id": "uxmcWg5hTpQU",
        "colab_type": "code",
        "colab": {
          "base_uri": "https://localhost:8080/",
          "height": 68
        },
        "outputId": "b3f517b7-e58e-4d1d-f6c9-94ca7a37157f"
      },
      "source": [
        "b = np.array([\n",
        "              [1,2,3],\n",
        "              [4,5,6],\n",
        "              [7,8,9]\n",
        "\n",
        "              ])  #creating a rank 2 array\n",
        "print(type(b))\n",
        "print(b.shape)\n",
        "print(b[2][1])"
      ],
      "execution_count": null,
      "outputs": [
        {
          "output_type": "stream",
          "text": [
            "<class 'numpy.ndarray'>\n",
            "(3, 3)\n",
            "8\n"
          ],
          "name": "stdout"
        }
      ]
    },
    {
      "cell_type": "code",
      "metadata": {
        "id": "2n-aMmZXU8aS",
        "colab_type": "code",
        "colab": {
          "base_uri": "https://localhost:8080/",
          "height": 68
        },
        "outputId": "42b761e8-4726-43cc-9bab-eacaf248510e"
      },
      "source": [
        "arr_zero = np.zeros((3,3))\n",
        "print(arr_zero)"
      ],
      "execution_count": null,
      "outputs": [
        {
          "output_type": "stream",
          "text": [
            "[[0. 0. 0.]\n",
            " [0. 0. 0.]\n",
            " [0. 0. 0.]]\n"
          ],
          "name": "stdout"
        }
      ]
    },
    {
      "cell_type": "code",
      "metadata": {
        "id": "hxTTa8cPWaqf",
        "colab_type": "code",
        "colab": {
          "base_uri": "https://localhost:8080/",
          "height": 68
        },
        "outputId": "bc79dde8-7567-4a3a-fa6e-6afe3d870899"
      },
      "source": [
        "arr_zero = np.ones((3,3))\n",
        "print(arr_zero)"
      ],
      "execution_count": null,
      "outputs": [
        {
          "output_type": "stream",
          "text": [
            "[[1. 1. 1.]\n",
            " [1. 1. 1.]\n",
            " [1. 1. 1.]]\n"
          ],
          "name": "stdout"
        }
      ]
    },
    {
      "cell_type": "code",
      "metadata": {
        "id": "Xo7Tk2s0Wqx-",
        "colab_type": "code",
        "colab": {
          "base_uri": "https://localhost:8080/",
          "height": 68
        },
        "outputId": "7d919a9d-8d6c-41f0-f1de-9bd50261a44b"
      },
      "source": [
        "arr_constant = np.full((3,3),4)\n",
        "print(arr_constant)"
      ],
      "execution_count": null,
      "outputs": [
        {
          "output_type": "stream",
          "text": [
            "[[4 4 4]\n",
            " [4 4 4]\n",
            " [4 4 4]]\n"
          ],
          "name": "stdout"
        }
      ]
    },
    {
      "cell_type": "code",
      "metadata": {
        "id": "YypFz1xkXBTP",
        "colab_type": "code",
        "colab": {
          "base_uri": "https://localhost:8080/",
          "height": 102
        },
        "outputId": "63356168-0faa-4e5f-ba41-69612bbfafae"
      },
      "source": [
        "arr_iden = np.eye(5)\n",
        "print(arr_iden)"
      ],
      "execution_count": null,
      "outputs": [
        {
          "output_type": "stream",
          "text": [
            "[[1. 0. 0. 0. 0.]\n",
            " [0. 1. 0. 0. 0.]\n",
            " [0. 0. 1. 0. 0.]\n",
            " [0. 0. 0. 1. 0.]\n",
            " [0. 0. 0. 0. 1.]]\n"
          ],
          "name": "stdout"
        }
      ]
    },
    {
      "cell_type": "code",
      "metadata": {
        "id": "TEMbAyvcXQfD",
        "colab_type": "code",
        "colab": {
          "base_uri": "https://localhost:8080/",
          "height": 102
        },
        "outputId": "cb5a73f5-3d90-4277-ee86-054ae5deb9ab"
      },
      "source": [
        "arr_rand = np.random.random((5,5))\n",
        "print(arr_rand)"
      ],
      "execution_count": null,
      "outputs": [
        {
          "output_type": "stream",
          "text": [
            "[[0.80983538 0.12600134 0.83236146 0.17393047 0.86550958]\n",
            " [0.56204735 0.79678904 0.24439967 0.63981591 0.97860937]\n",
            " [0.28929105 0.59642912 0.64289818 0.53500005 0.38363982]\n",
            " [0.91785572 0.17083884 0.51051845 0.5234242  0.80636721]\n",
            " [0.89802233 0.4680244  0.08911166 0.92110051 0.20477199]]\n"
          ],
          "name": "stdout"
        }
      ]
    },
    {
      "cell_type": "code",
      "metadata": {
        "id": "OgWCPK8OX8yk",
        "colab_type": "code",
        "colab": {
          "base_uri": "https://localhost:8080/",
          "height": 68
        },
        "outputId": "8bc904f5-6541-41ae-f693-2cb32a11c70c"
      },
      "source": [
        "# array indexing\n",
        "\n",
        "a = np.array([\n",
        "              \n",
        "              [1,2,3,4,5],\n",
        "              [6,7,8,9,10],\n",
        "              [11,12,13,14,15]\n",
        "              \n",
        "              ])\n",
        "print(a)"
      ],
      "execution_count": null,
      "outputs": [
        {
          "output_type": "stream",
          "text": [
            "[[ 1  2  3  4  5]\n",
            " [ 6  7  8  9 10]\n",
            " [11 12 13 14 15]]\n"
          ],
          "name": "stdout"
        }
      ]
    },
    {
      "cell_type": "code",
      "metadata": {
        "id": "XTfr-ZuD08JQ",
        "colab_type": "code",
        "colab": {
          "base_uri": "https://localhost:8080/",
          "height": 51
        },
        "outputId": "7cea30b3-70de-4df3-9c8e-f9c5eb7fbdf4"
      },
      "source": [
        "\n",
        "a[0:4:2]"
      ],
      "execution_count": null,
      "outputs": [
        {
          "output_type": "execute_result",
          "data": {
            "text/plain": [
              "array([[ 6,  2,  3],\n",
              "       [12,  8,  9]])"
            ]
          },
          "metadata": {
            "tags": []
          },
          "execution_count": 20
        }
      ]
    },
    {
      "cell_type": "code",
      "metadata": {
        "id": "pcIw5MUrX_Oj",
        "colab_type": "code",
        "colab": {
          "base_uri": "https://localhost:8080/",
          "height": 68
        },
        "outputId": "8a0cca8c-dc77-425b-add8-148c4e9e0979"
      },
      "source": [
        "b = a[1:3, 2:4]\n",
        "print(b)\n",
        "print(b[0][1])"
      ],
      "execution_count": null,
      "outputs": [
        {
          "output_type": "stream",
          "text": [
            "[[ 8  9]\n",
            " [13 14]]\n",
            "9\n"
          ],
          "name": "stdout"
        }
      ]
    },
    {
      "cell_type": "code",
      "metadata": {
        "id": "Ndr4KS0QYzFa",
        "colab_type": "code",
        "colab": {
          "base_uri": "https://localhost:8080/",
          "height": 51
        },
        "outputId": "399439b5-1448-49da-c185-077edabfa8f4"
      },
      "source": [
        "b[0][0] = 99\n",
        "print(b)\n"
      ],
      "execution_count": null,
      "outputs": [
        {
          "output_type": "stream",
          "text": [
            "[[99  9]\n",
            " [13 14]]\n"
          ],
          "name": "stdout"
        }
      ]
    },
    {
      "cell_type": "code",
      "metadata": {
        "id": "-KNPaCqiZuGv",
        "colab_type": "code",
        "colab": {
          "base_uri": "https://localhost:8080/",
          "height": 119
        },
        "outputId": "0a5f4f85-8bb1-4abe-c3ad-76570724b115"
      },
      "source": [
        "a = np.array([\n",
        "              [1,2,3,4,5],\n",
        "              [6,7,8,9,10],\n",
        "              [11,12,13,14,15]\n",
        "            ])\n",
        "\n",
        "row1 =  a[1,:] #creating a rank 1 array\n",
        "row2 = a[1:2, :]\n",
        "print(row1, row1.shape)\n",
        "print(row2, row2.shape)\n",
        "\n",
        "col1 = a[:,1]\n",
        "col2 = a[:,1:2]\n",
        "print(col1,col1.shape)\n",
        "print(col2,col2.shape)"
      ],
      "execution_count": null,
      "outputs": [
        {
          "output_type": "stream",
          "text": [
            "[ 6  7  8  9 10] (5,)\n",
            "[[ 6  7  8  9 10]] (1, 5)\n",
            "[ 2  7 12] (3,)\n",
            "[[ 2]\n",
            " [ 7]\n",
            " [12]] (3, 1)\n"
          ],
          "name": "stdout"
        }
      ]
    },
    {
      "cell_type": "code",
      "metadata": {
        "id": "kryYMmhRa3ca",
        "colab_type": "code",
        "colab": {
          "base_uri": "https://localhost:8080/",
          "height": 119
        },
        "outputId": "c20c2b26-bc3c-43ea-8f07-a6bfc068e546"
      },
      "source": [
        "a = np.array([\n",
        "              [1,2],\n",
        "              [3,4],\n",
        "              [5,6]\n",
        "])\n",
        "print(a)\n",
        "print(a[[0,1,2],[0,1,0]]) #shape (3,)\n",
        "\n",
        "print([a[0][0], a[1][1], a[2][0]])\n",
        "\n",
        "print(a[0,0], [1,1])"
      ],
      "execution_count": null,
      "outputs": [
        {
          "output_type": "stream",
          "text": [
            "[[1 2]\n",
            " [3 4]\n",
            " [5 6]]\n",
            "[1 4 5]\n",
            "[1, 4, 5]\n",
            "1 [1, 1]\n"
          ],
          "name": "stdout"
        }
      ]
    },
    {
      "cell_type": "code",
      "metadata": {
        "id": "93UAUJ7AcEzC",
        "colab_type": "code",
        "colab": {
          "base_uri": "https://localhost:8080/",
          "height": 85
        },
        "outputId": "9d75d643-4987-46ce-f5e4-e98053e0eb49"
      },
      "source": [
        "a = np.array([\n",
        "              [1,2,3],\n",
        "              [4,5,6],\n",
        "              [7,8,9],\n",
        "              [10,11,12]\n",
        "])\n",
        "print(a)"
      ],
      "execution_count": null,
      "outputs": [
        {
          "output_type": "stream",
          "text": [
            "[[ 1  2  3]\n",
            " [ 4  5  6]\n",
            " [ 7  8  9]\n",
            " [10 11 12]]\n"
          ],
          "name": "stdout"
        }
      ]
    },
    {
      "cell_type": "code",
      "metadata": {
        "id": "Va_v1Bh1ejvI",
        "colab_type": "code",
        "colab": {
          "base_uri": "https://localhost:8080/",
          "height": 34
        },
        "outputId": "c779297e-29ea-4cf1-d541-3fcb7ac907a8"
      },
      "source": [
        "b= np.array([0,2,0,1])\n",
        "print(b)"
      ],
      "execution_count": null,
      "outputs": [
        {
          "output_type": "stream",
          "text": [
            "[0 2 0 1]\n"
          ],
          "name": "stdout"
        }
      ]
    },
    {
      "cell_type": "code",
      "metadata": {
        "id": "_hIXv6uKerAL",
        "colab_type": "code",
        "colab": {
          "base_uri": "https://localhost:8080/",
          "height": 51
        },
        "outputId": "98d6b5f4-23bf-432f-8cfb-480dc8d6728f"
      },
      "source": [
        "print(np.arange(4))\n",
        "print(a[np.arange(4), b])"
      ],
      "execution_count": null,
      "outputs": [
        {
          "output_type": "stream",
          "text": [
            "[0 1 2 3]\n",
            "[ 1  6  7 11]\n"
          ],
          "name": "stdout"
        }
      ]
    },
    {
      "cell_type": "code",
      "metadata": {
        "id": "wVCXL0LnfAKw",
        "colab_type": "code",
        "colab": {
          "base_uri": "https://localhost:8080/",
          "height": 85
        },
        "outputId": "35512c27-5201-4bbf-ded0-e3817e6d5a5a"
      },
      "source": [
        "a[np.arange(4),b] +=5\n",
        "print(a)"
      ],
      "execution_count": null,
      "outputs": [
        {
          "output_type": "stream",
          "text": [
            "[[ 6  2  3]\n",
            " [ 4  5 11]\n",
            " [12  8  9]\n",
            " [10 16 12]]\n"
          ],
          "name": "stdout"
        }
      ]
    },
    {
      "cell_type": "code",
      "metadata": {
        "id": "CQnSrMQjgFfQ",
        "colab_type": "code",
        "colab": {}
      },
      "source": [
        ""
      ],
      "execution_count": null,
      "outputs": []
    }
  ]
}
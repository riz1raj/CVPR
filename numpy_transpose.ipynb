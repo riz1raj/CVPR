{
  "nbformat": 4,
  "nbformat_minor": 0,
  "metadata": {
    "colab": {
      "name": "numpy_transpose.ipynb",
      "provenance": [],
      "authorship_tag": "ABX9TyOo+w/NgjrC/cThUrS41OGz",
      "include_colab_link": true
    },
    "kernelspec": {
      "name": "python3",
      "display_name": "Python 3"
    }
  },
  "cells": [
    {
      "cell_type": "markdown",
      "metadata": {
        "id": "view-in-github",
        "colab_type": "text"
      },
      "source": [
        "<a href=\"https://colab.research.google.com/github/riz1raj/CVPR/blob/master/numpy_transpose.ipynb\" target=\"_parent\"><img src=\"https://colab.research.google.com/assets/colab-badge.svg\" alt=\"Open In Colab\"/></a>"
      ]
    },
    {
      "cell_type": "code",
      "metadata": {
        "id": "xJmRlpFxhcVL",
        "colab_type": "code",
        "colab": {
          "base_uri": "https://localhost:8080/",
          "height": 102
        },
        "outputId": "17452c65-da4f-496f-ebed-2f32a14a2098"
      },
      "source": [
        "# Boolean numpy array\n",
        "import numpy as np\n",
        "\n",
        "arr = np.array([\n",
        "                [1,2,3],\n",
        "                [4,5,6],\n",
        "                [7,8,9]\n",
        "              ])\n",
        "bool_index = arr>2\n",
        "print(bool_index)\n",
        "print(arr[bool_index])\n",
        "print(arr[arr>2])"
      ],
      "execution_count": 1,
      "outputs": [
        {
          "output_type": "stream",
          "text": [
            "[[False False  True]\n",
            " [ True  True  True]\n",
            " [ True  True  True]]\n",
            "[3 4 5 6 7 8 9]\n",
            "[3 4 5 6 7 8 9]\n"
          ],
          "name": "stdout"
        }
      ]
    },
    {
      "cell_type": "code",
      "metadata": {
        "id": "cEUIRi93htE2",
        "colab_type": "code",
        "colab": {
          "base_uri": "https://localhost:8080/",
          "height": 68
        },
        "outputId": "8a579f69-66ae-49c4-a0e9-444b62e6d26c"
      },
      "source": [
        "#data type in numpy\n",
        "\n",
        "a= np.array([1,2,3])\n",
        "print(a.dtype)\n",
        "\n",
        "b= np.array([1,2,3.3])\n",
        "print(b.dtype)\n",
        "\n",
        "c= np.array([1,2,3,4,5.5], dtype=np.int64)\n",
        "print(c.dtype)"
      ],
      "execution_count": 2,
      "outputs": [
        {
          "output_type": "stream",
          "text": [
            "int64\n",
            "float64\n",
            "int64\n"
          ],
          "name": "stdout"
        }
      ]
    },
    {
      "cell_type": "code",
      "metadata": {
        "id": "6KJ8ExUAiNj_",
        "colab_type": "code",
        "colab": {
          "base_uri": "https://localhost:8080/",
          "height": 323
        },
        "outputId": "ea423009-2495-4b70-981d-3fa022e213db"
      },
      "source": [
        "x = np.array([\n",
        "              [1,2,3],\n",
        "              [4,5,6]\n",
        "              ], dtype =np.float64)\n",
        "y= np.array([\n",
        "             [7,8,9],\n",
        "             [1,2,3]\n",
        "            ], dtype= np.float64)\n",
        "print(x+y)\n",
        "print(np.add(x,y))\n",
        "print(x-y)\n",
        "print(np.subtract(x,y))\n",
        "print(x*y)\n",
        "print(np.multiply(x,y))\n",
        "print(x/y)\n",
        "print(np.divide(x,y))\n",
        "print(np.sqrt(x))\n"
      ],
      "execution_count": 3,
      "outputs": [
        {
          "output_type": "stream",
          "text": [
            "[[ 8. 10. 12.]\n",
            " [ 5.  7.  9.]]\n",
            "[[ 8. 10. 12.]\n",
            " [ 5.  7.  9.]]\n",
            "[[-6. -6. -6.]\n",
            " [ 3.  3.  3.]]\n",
            "[[-6. -6. -6.]\n",
            " [ 3.  3.  3.]]\n",
            "[[ 7. 16. 27.]\n",
            " [ 4. 10. 18.]]\n",
            "[[ 7. 16. 27.]\n",
            " [ 4. 10. 18.]]\n",
            "[[0.14285714 0.25       0.33333333]\n",
            " [4.         2.5        2.        ]]\n",
            "[[0.14285714 0.25       0.33333333]\n",
            " [4.         2.5        2.        ]]\n",
            "[[1.         1.41421356 1.73205081]\n",
            " [2.         2.23606798 2.44948974]]\n"
          ],
          "name": "stdout"
        }
      ]
    },
    {
      "cell_type": "code",
      "metadata": {
        "id": "R7tTC_MijWDp",
        "colab_type": "code",
        "colab": {
          "base_uri": "https://localhost:8080/",
          "height": 153
        },
        "outputId": "56534f0a-34ff-4a37-b545-c3b268fe6deb"
      },
      "source": [
        "x= np.array([[1,2],[3,4]])\n",
        "y= np.array([[5,6],[7,8]])\n",
        "\n",
        "a= np.array([2,3])\n",
        "b= np.array([4,5])\n",
        "\n",
        "print(a.dot(b))     #inner product of vectors\n",
        "print(np.dot(a,b))\n",
        "\n",
        "print(x.dot(a))  #matrix / vector will produce rank 1 array\n",
        "print(np.dot(x,a))\n",
        "print(x.dot(y))  #matrix / vector will produce rank 1 array\n",
        "print(np.dot(x,y))"
      ],
      "execution_count": 4,
      "outputs": [
        {
          "output_type": "stream",
          "text": [
            "23\n",
            "23\n",
            "[ 8 18]\n",
            "[ 8 18]\n",
            "[[19 22]\n",
            " [43 50]]\n",
            "[[19 22]\n",
            " [43 50]]\n"
          ],
          "name": "stdout"
        }
      ]
    },
    {
      "cell_type": "code",
      "metadata": {
        "id": "AF86m14OlIL8",
        "colab_type": "code",
        "colab": {
          "base_uri": "https://localhost:8080/",
          "height": 68
        },
        "outputId": "a0b378ed-5f0a-40a1-b982-dcabe11e8a5a"
      },
      "source": [
        "x= np.array([[1,2],[3,4]])\n",
        "\n",
        "print(np.sum(x, axis=None))  #sum of all elements\n",
        "print(np.sum(x, axis=0)) #sum of each column\n",
        "print(np.sum(x, axis=1)) #sum of each row\n"
      ],
      "execution_count": 5,
      "outputs": [
        {
          "output_type": "stream",
          "text": [
            "10\n",
            "[4 6]\n",
            "[3 7]\n"
          ],
          "name": "stdout"
        }
      ]
    },
    {
      "cell_type": "code",
      "metadata": {
        "id": "3LCDs5mEmrFm",
        "colab_type": "code",
        "colab": {
          "base_uri": "https://localhost:8080/",
          "height": 68
        },
        "outputId": "896ad6e8-c153-46b9-d4fc-f02e218bb650"
      },
      "source": [
        "print(x.T)  #transpose the matrix\n",
        "a = np.array([1,2,3,4])\n",
        "print(a.T)  #rank 1 matrix doesnt trnaspose\n"
      ],
      "execution_count": 6,
      "outputs": [
        {
          "output_type": "stream",
          "text": [
            "[[1 3]\n",
            " [2 4]]\n",
            "[1 2 3 4]\n"
          ],
          "name": "stdout"
        }
      ]
    },
    {
      "cell_type": "code",
      "metadata": {
        "id": "72ZsI0P0n8jh",
        "colab_type": "code",
        "colab": {
          "base_uri": "https://localhost:8080/",
          "height": 357
        },
        "outputId": "fcb7028f-cd72-4bd5-8bcb-dce8d6afd362"
      },
      "source": [
        "#broadcasting\n",
        "\n",
        "a= np.array([\n",
        "             [1,2,3],\n",
        "             [4,5,6],\n",
        "             [7,8,9],\n",
        "             [10,11,12]\n",
        "             ])\n",
        "b= np.array([1,2,3])\n",
        "c= np.empty_like(a)\n",
        "print(c)\n",
        "\n",
        "\n",
        "for i in range(4):\n",
        "  c[i,:] = a[i,:] +b\n",
        "  print(c)\n"
      ],
      "execution_count": 7,
      "outputs": [
        {
          "output_type": "stream",
          "text": [
            "[[       68193568               0            1601]\n",
            " [       41627328 139946944968640 139946944968640]\n",
            " [139946944968640 139946944968640               0]\n",
            " [              4      4294967296               9]]\n",
            "[[              2               4               6]\n",
            " [       41627328 139946944968640 139946944968640]\n",
            " [139946944968640 139946944968640               0]\n",
            " [              4      4294967296               9]]\n",
            "[[              2               4               6]\n",
            " [              5               7               9]\n",
            " [139946944968640 139946944968640               0]\n",
            " [              4      4294967296               9]]\n",
            "[[         2          4          6]\n",
            " [         5          7          9]\n",
            " [         8         10         12]\n",
            " [         4 4294967296          9]]\n",
            "[[ 2  4  6]\n",
            " [ 5  7  9]\n",
            " [ 8 10 12]\n",
            " [11 13 15]]\n"
          ],
          "name": "stdout"
        }
      ]
    },
    {
      "cell_type": "code",
      "metadata": {
        "id": "AW-wQxilo2qF",
        "colab_type": "code",
        "colab": {
          "base_uri": "https://localhost:8080/",
          "height": 85
        },
        "outputId": "17da6a57-4580-4085-f3b7-41c72f12f21f"
      },
      "source": [
        "ab = np.tile(b,(4,1)) #stack 4 copies of b on top each other\n",
        "print(ab)\n"
      ],
      "execution_count": 8,
      "outputs": [
        {
          "output_type": "stream",
          "text": [
            "[[1 2 3]\n",
            " [1 2 3]\n",
            " [1 2 3]\n",
            " [1 2 3]]\n"
          ],
          "name": "stdout"
        }
      ]
    },
    {
      "cell_type": "code",
      "metadata": {
        "id": "4wUuEBSar8NH",
        "colab_type": "code",
        "colab": {
          "base_uri": "https://localhost:8080/",
          "height": 170
        },
        "outputId": "c0bf55b1-7989-42f0-8252-f3934bea4c27"
      },
      "source": [
        "test = a+ab\n",
        "print(test)\n",
        "\n",
        "print(a)\n",
        "print(b)"
      ],
      "execution_count": 9,
      "outputs": [
        {
          "output_type": "stream",
          "text": [
            "[[ 2  4  6]\n",
            " [ 5  7  9]\n",
            " [ 8 10 12]\n",
            " [11 13 15]]\n",
            "[[ 1  2  3]\n",
            " [ 4  5  6]\n",
            " [ 7  8  9]\n",
            " [10 11 12]]\n",
            "[1 2 3]\n"
          ],
          "name": "stdout"
        }
      ]
    },
    {
      "cell_type": "code",
      "metadata": {
        "id": "r1ZO7G4Nsypm",
        "colab_type": "code",
        "colab": {
          "base_uri": "https://localhost:8080/",
          "height": 204
        },
        "outputId": "cdf261f2-ba09-4ea8-b315-9d3b34c461cb"
      },
      "source": [
        "a= np.array([1,2,3])     #shape(3,)\n",
        "b= np.array([1,2])       #shape(2,)\n",
        "\n",
        "print(np.reshape(a,(3,1))*b)\n",
        "\n",
        "x= np.array([[1,2,3],[4,5,6]])\n",
        "print(a.shape, x.shape)\n",
        "print(x+a)\n",
        "\n",
        "print(x.T + b)\n",
        "print((x.T + b).T)\n"
      ],
      "execution_count": 10,
      "outputs": [
        {
          "output_type": "stream",
          "text": [
            "[[1 2]\n",
            " [2 4]\n",
            " [3 6]]\n",
            "(3,) (2, 3)\n",
            "[[2 4 6]\n",
            " [5 7 9]]\n",
            "[[2 6]\n",
            " [3 7]\n",
            " [4 8]]\n",
            "[[2 3 4]\n",
            " [6 7 8]]\n"
          ],
          "name": "stdout"
        }
      ]
    },
    {
      "cell_type": "code",
      "metadata": {
        "id": "dhCXovcVvUMq",
        "colab_type": "code",
        "colab": {}
      },
      "source": [
        ""
      ],
      "execution_count": 10,
      "outputs": []
    }
  ]
}